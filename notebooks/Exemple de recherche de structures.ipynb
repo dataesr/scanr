{
 "cells": [
  {
   "cell_type": "code",
   "execution_count": 1,
   "metadata": {},
   "outputs": [],
   "source": [
    "import requests"
   ]
  },
  {
   "cell_type": "code",
   "execution_count": 2,
   "metadata": {},
   "outputs": [],
   "source": [
    "url_structure = \"https://scanr-api.enseignementsup-recherche.gouv.fr/api/v2/structures/search\""
   ]
  },
  {
   "cell_type": "markdown",
   "metadata": {},
   "source": [
    "# Recherche par label numero"
   ]
  },
  {
   "cell_type": "code",
   "execution_count": 15,
   "metadata": {},
   "outputs": [
    {
     "data": {
      "text/plain": [
       "[{'highlights': [{'type': 'externalIds.id',\n",
       "    'value': '<strong>UMR</strong> <strong>7587</strong>'}],\n",
       "  'value': {'id': '199712633Z',\n",
       "   'label': {'default': 'Institut langevin ondes et images'},\n",
       "   'status': 'active'}}]"
      ]
     },
     "execution_count": 15,
     "metadata": {},
     "output_type": "execute_result"
    }
   ],
   "source": [
    "label_numero = \"UMR 7587\"\n",
    "\n",
    "filters = {\n",
    "    'status': {\n",
    "        'type': 'MultiValueSearchFilter',\n",
    "        'op': 'any',\n",
    "       'values': ['active']},\n",
    "}\n",
    "\n",
    "params = {\n",
    "    \"query\": label_numero,\n",
    "    \"searchFields\": [\"externalIds.id\"],\n",
    "    \"sourceFields\": [\"id\", \"label.default\", \"status\"]\n",
    "}\n",
    "\n",
    "requests.post(url_structure, json=params).json()['results']"
   ]
  },
  {
   "cell_type": "markdown",
   "metadata": {},
   "source": [
    "# Recherche par nom"
   ]
  },
  {
   "cell_type": "code",
   "execution_count": 14,
   "metadata": {},
   "outputs": [
    {
     "data": {
      "text/plain": [
       "[{'highlights': [{'type': 'label.fr',\n",
       "    'value': '<strong>Institut</strong> <strong>langevin</strong> ondes et images'},\n",
       "   {'type': 'label.default',\n",
       "    'value': '<strong>Institut</strong> <strong>langevin</strong> ondes et images'},\n",
       "   {'type': 'acronym.fr',\n",
       "    'value': '<strong>Institut</strong> <strong>Langevin</strong>'},\n",
       "   {'type': 'acronym.default',\n",
       "    'value': '<strong>Institut</strong> <strong>Langevin</strong>'},\n",
       "   {'type': 'alias',\n",
       "    'value': '<strong>Institut</strong> <strong>langevin</strong> ondes et images'}],\n",
       "  'value': {'id': '199712633Z',\n",
       "   'label': {'default': 'Institut langevin ondes et images'},\n",
       "   'status': 'active'}},\n",
       " {'highlights': [{'type': 'label.fr',\n",
       "    'value': '<strong>Institut</strong> Max Von Laue - Paul <strong>Langevin</strong>'},\n",
       "   {'type': 'label.default',\n",
       "    'value': '<strong>Institut</strong> Max Von Laue - Paul <strong>Langevin</strong>'}],\n",
       "  'value': {'id': '779555887',\n",
       "   'label': {'default': 'Institut Max Von Laue - Paul Langevin'},\n",
       "   'status': 'active'}}]"
      ]
     },
     "execution_count": 14,
     "metadata": {},
     "output_type": "execute_result"
    }
   ],
   "source": [
    "nom = \"Institut langevin\"\n",
    "\n",
    "filters = {\n",
    "    'status': {\n",
    "        'type': 'MultiValueSearchFilter',\n",
    "        'op': 'any',\n",
    "       'values': ['active']},\n",
    "}\n",
    "\n",
    "params = {\n",
    "    \"query\": nom,\n",
    "    \"filters\": filters,\n",
    "    \"searchFields\": [\"acronym.default\", \"acronym.fr\", \"acronym.en\",\n",
    "                    \"label.default\", \"label.fr\", \"label.en\",\n",
    "                    \"alias\"],\n",
    "    \"sourceFields\": [\"id\", \"label.default\", \"status\"]\n",
    "}\n",
    "\n",
    "requests.post(url_structure, json=params).json()['results']"
   ]
  },
  {
   "cell_type": "code",
   "execution_count": null,
   "metadata": {},
   "outputs": [],
   "source": []
  }
 ],
 "metadata": {
  "kernelspec": {
   "display_name": "Python 3",
   "language": "python",
   "name": "python3"
  },
  "language_info": {
   "codemirror_mode": {
    "name": "ipython",
    "version": 3
   },
   "file_extension": ".py",
   "mimetype": "text/x-python",
   "name": "python",
   "nbconvert_exporter": "python",
   "pygments_lexer": "ipython3",
   "version": "3.6.5"
  }
 },
 "nbformat": 4,
 "nbformat_minor": 2
}
